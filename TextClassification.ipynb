{
 "cells": [
  {
   "cell_type": "markdown",
   "metadata": {},
   "source": [
    "# Import libraries"
   ]
  },
  {
   "cell_type": "code",
   "execution_count": null,
   "metadata": {
    "colab": {
     "base_uri": "https://localhost:8080/"
    },
    "collapsed": true,
    "id": "CEt493ujN-bt",
    "jupyter": {
     "outputs_hidden": true
    },
    "outputId": "a83bf11d-a7ec-4396-90be-e3f1cdac20c3"
   },
   "outputs": [
    {
     "name": "stdout",
     "output_type": "stream",
     "text": [
      "Requirement already satisfied: pyvi in /usr/local/lib/python3.6/dist-packages (0.1)\n",
      "Requirement already satisfied: sklearn-crfsuite in /usr/local/lib/python3.6/dist-packages (from pyvi) (0.3.6)\n",
      "Requirement already satisfied: scikit-learn in /usr/local/lib/python3.6/dist-packages (from pyvi) (0.22.2.post1)\n",
      "Requirement already satisfied: tabulate in /usr/local/lib/python3.6/dist-packages (from sklearn-crfsuite->pyvi) (0.8.7)\n",
      "Requirement already satisfied: python-crfsuite>=0.8.3 in /usr/local/lib/python3.6/dist-packages (from sklearn-crfsuite->pyvi) (0.9.7)\n",
      "Requirement already satisfied: six in /usr/local/lib/python3.6/dist-packages (from sklearn-crfsuite->pyvi) (1.15.0)\n",
      "Requirement already satisfied: tqdm>=2.0 in /usr/local/lib/python3.6/dist-packages (from sklearn-crfsuite->pyvi) (4.41.1)\n",
      "Requirement already satisfied: numpy>=1.11.0 in /usr/local/lib/python3.6/dist-packages (from scikit-learn->pyvi) (1.19.5)\n",
      "Requirement already satisfied: joblib>=0.11 in /usr/local/lib/python3.6/dist-packages (from scikit-learn->pyvi) (1.0.0)\n",
      "Requirement already satisfied: scipy>=0.17.0 in /usr/local/lib/python3.6/dist-packages (from scikit-learn->pyvi) (1.4.1)\n"
     ]
    }
   ],
   "source": [
    "#basic library\n",
    "import pandas\n",
    "import matplotlib.pyplot as plt\n",
    "import numpy as np\n",
    "\n",
    "# Install tokenize\n",
    "!pip install pyvi\n",
    "from pyvi import ViTokenizer\n",
    "\n",
    "# import necessary libraries for deep learning\n",
    "import warnings\n",
    "import keras\n",
    "warnings.filterwarnings(\"ignore\")\n",
    "import numpy as np\n",
    "from matplotlib import pyplot as plt\n",
    "import seaborn as sns\n",
    "from gensim.models.wrappers import FastText\n",
    "from gensim.models import KeyedVectors\n",
    "from keras.preprocessing.sequence import pad_sequences\n",
    "from keras.utils.np_utils import to_categorical\n",
    "from keras.models import Sequential\n",
    "from keras.layers import Embedding\n",
    "from keras.layers import Dense, Input\n",
    "from keras.layers import TimeDistributed\n",
    "from keras.layers import LSTM, GRU, Bidirectional, SimpleRNN, RNN\n",
    "from keras.models import Model\n",
    "from keras.preprocessing.text import Tokenizer\n",
    "from sklearn.model_selection import train_test_split"
   ]
  },
  {
   "cell_type": "markdown",
   "metadata": {},
   "source": [
    "# Load and preprocess data"
   ]
  },
  {
   "cell_type": "code",
   "execution_count": null,
   "metadata": {
    "colab": {
     "base_uri": "https://localhost:8080/",
     "height": 363
    },
    "id": "AU1aTjTCOP12",
    "outputId": "6d507ec5-67e0-46eb-81b5-44e84cc7c6ab"
   },
   "outputs": [
    {
     "name": "stdout",
     "output_type": "stream",
     "text": [
      "Phim / Nhạc / Sách :  1337\n",
      "Điện thoại di động :  1596\n",
      "4 bánh :  1026\n",
      "Đồ điện tử & Thiết bị gia dụng :  1324\n"
     ]
    },
    {
     "data": {
      "text/html": [
       "<div>\n",
       "<style scoped>\n",
       "    .dataframe tbody tr th:only-of-type {\n",
       "        vertical-align: middle;\n",
       "    }\n",
       "\n",
       "    .dataframe tbody tr th {\n",
       "        vertical-align: top;\n",
       "    }\n",
       "\n",
       "    .dataframe thead th {\n",
       "        text-align: right;\n",
       "    }\n",
       "</style>\n",
       "<table border=\"1\" class=\"dataframe\">\n",
       "  <thead>\n",
       "    <tr style=\"text-align: right;\">\n",
       "      <th></th>\n",
       "      <th>postTitle</th>\n",
       "      <th>postCotent</th>\n",
       "      <th>forumName</th>\n",
       "      <th>postLink</th>\n",
       "    </tr>\n",
       "  </thead>\n",
       "  <tbody>\n",
       "    <tr>\n",
       "      <th>0</th>\n",
       "      <td>Bán 8 Plus gold 64g còn bh ở didongviet 10 tháng</td>\n",
       "      <td>Máy ngoại hình tốt, ko sướt cấn móp. Pin 100%....</td>\n",
       "      <td>Điện thoại di động</td>\n",
       "      <td>https://voz.vn/t/ban-8-plus-gold-64g-con-bh-o-...</td>\n",
       "    </tr>\n",
       "    <tr>\n",
       "      <th>1</th>\n",
       "      <td>Mới sắm con máy giặt LG AI DD ưng quá lên khoe...</td>\n",
       "      <td>Hello mấy thím, nhân hôm không phải trông con ...</td>\n",
       "      <td>Đồ điện tử &amp; Thiết bị gia dụng</td>\n",
       "      <td>https://voz.vn/t/moi-sam-con-may-giat-lg-ai-dd...</td>\n",
       "    </tr>\n",
       "    <tr>\n",
       "      <th>2</th>\n",
       "      <td>Những đồ thiết yếu cần lắp cho ô tô</td>\n",
       "      <td>Mời các bác vào tham luận cho vui. cái g...</td>\n",
       "      <td>4 bánh</td>\n",
       "      <td>https://voz.vn/t/nhung-do-thiet-yeu-can-lap-ch...</td>\n",
       "    </tr>\n",
       "    <tr>\n",
       "      <th>3</th>\n",
       "      <td>Thái Mỹ Đình, Ép kính, Ép cáp, Thay Màn, Thay ...</td>\n",
       "      <td>Xin phép Add duyệt bài !!!\\nGiúp đỡ , tạo điều...</td>\n",
       "      <td>Điện thoại di động</td>\n",
       "      <td>https://voz.vn/t/thai-my-dinh-ep-kinh-ep-cap-t...</td>\n",
       "    </tr>\n",
       "    <tr>\n",
       "      <th>4</th>\n",
       "      <td>Điện thoại Samsung S9+ hàng ssvn, full box, hì...</td>\n",
       "      <td>Mới nâng cấp máy, cần bán  hàng chính hãng SSV...</td>\n",
       "      <td>Điện thoại di động</td>\n",
       "      <td>https://voz.vn/t/dien-thoai-samsung-s9-hang-ss...</td>\n",
       "    </tr>\n",
       "  </tbody>\n",
       "</table>\n",
       "</div>"
      ],
      "text/plain": [
       "                                           postTitle  ...                                           postLink\n",
       "0   Bán 8 Plus gold 64g còn bh ở didongviet 10 tháng  ...  https://voz.vn/t/ban-8-plus-gold-64g-con-bh-o-...\n",
       "1  Mới sắm con máy giặt LG AI DD ưng quá lên khoe...  ...  https://voz.vn/t/moi-sam-con-may-giat-lg-ai-dd...\n",
       "2          Những đồ thiết yếu cần lắp cho ô tô  ...  https://voz.vn/t/nhung-do-thiet-yeu-can-lap-ch...\n",
       "3  Thái Mỹ Đình, Ép kính, Ép cáp, Thay Màn, Thay ...  ...  https://voz.vn/t/thai-my-dinh-ep-kinh-ep-cap-t...\n",
       "4  Điện thoại Samsung S9+ hàng ssvn, full box, hì...  ...  https://voz.vn/t/dien-thoai-samsung-s9-hang-ss...\n",
       "\n",
       "[5 rows x 4 columns]"
      ]
     },
     "execution_count": 92,
     "metadata": {
      "tags": []
     },
     "output_type": "execute_result"
    }
   ],
   "source": [
    "#load data\n",
    "#file output.csv nay sinh ra tu chuong trinh scraping\n",
    "data_path=r'/content/drive/MyDrive/Học tập/Introduce Data Science/Đố án/output.csv'\n",
    "df= pandas.read_csv(data_path)\n",
    "\n",
    "#preprocessing\n",
    "df = df[pandas.notnull(df['postCotent'])]\n",
    "df= df[df['forumName'] != 'Chuyện trò linh tinh™'] \n",
    "df=df[df['forumName'].map(len) >2]\n",
    "\n",
    "labels=set(df['forumName'])\n",
    "\n",
    "data=dict()\n",
    "#Get labels\n",
    "for label in labels:\n",
    "  data[label]=[]\n",
    "for index,row in df.iterrows():\n",
    "  for label in labels:\n",
    "    if row['forumName']==label:\n",
    "      data[label].append(row['postCotent'])\n",
    "\n",
    "for label in labels:\n",
    "  print(label,': ',len(data[label]))\n",
    "\n",
    "#convert label to num\n",
    "def labelToNum(label):\n",
    "  for (index, value) in enumerate(labels):\n",
    "    if value==label:\n",
    "      return index;\n",
    "  return 0;\n",
    "def numToLabel(num):\n",
    "  for (index, value) in enumerate(labels):\n",
    "    if index==num:\n",
    "      return value;\n",
    "  return data[data.keys()[0]];\n",
    "\n",
    "\n",
    "df.head()"
   ]
  },
  {
   "cell_type": "code",
   "execution_count": null,
   "metadata": {
    "colab": {
     "base_uri": "https://localhost:8080/",
     "height": 253
    },
    "collapsed": true,
    "id": "IzV3X3eMWpbZ",
    "jupyter": {
     "outputs_hidden": true
    },
    "outputId": "62cd5b49-c926-466f-e24a-76b71ed8c705"
   },
   "outputs": [
    {
     "data": {
      "image/png": "[encoded data removed]",
      "text/plain": [
       "<Figure size 432x288 with 1 Axes>"
      ]
     },
     "metadata": {
      "tags": []
     },
     "output_type": "display_data"
    }
   ],
   "source": [
    "# Data to plot\n",
    "labels=labels\n",
    "countings = []\n",
    "for label in labels:\n",
    "  countings.append(len(data[label]))\n",
    "\n",
    "# Plot\n",
    "plt.pie(countings, labels=labels,\n",
    "autopct='%1.1f%%', shadow=True, startangle=140)\n",
    "\n",
    "plt.axis('equal')\n",
    "plt.show()"
   ]
  },
  {
   "cell_type": "markdown",
   "metadata": {},
   "source": [
    "# Vectorize data"
   ]
  },
  {
   "cell_type": "code",
   "execution_count": null,
   "metadata": {
    "colab": {
     "base_uri": "https://localhost:8080/"
    },
    "collapsed": true,
    "id": "ZGkjkmKSOTFT",
    "jupyter": {
     "outputs_hidden": true
    },
    "outputId": "3e88b9dd-6ecb-4001-b418-bcd37f1844db"
   },
   "outputs": [
    {
     "name": "stdout",
     "output_type": "stream",
     "text": [
      "['Máy ngoại hình tốt, ko sướt cấn móp. Pin 100%. Máy đã dán ppf, ốp, kính cường lực.\\nGiấy tờ hóa đơn mua còn đầy đủ. Trong tgian bảo hành còn được thay pin miễn phí. \\nMáy đang dùng song song với XR, dư nên bán. Sdt liên hệ 0908 607 675.\\nGiá chốt 7.400.000 vnđ\\n. ', 'Hello mấy thím, nhân hôm không phải trông con giúp vợ, được dịp rảnh rỗi chém gió tí về mấy món đồ công nghệ mình sưu tầm được. Tôi là dân cơ khí nên mê mấy con gia dụng công nghệ vãi chưởng. Mà bị cái, mỗi lần tôi tha 1 món về thì vợ tôi cứ ầm ĩ bên tai. Nhà tôi thì không quá dư dả gì nhưng có con máy nào ra mà tốt thì tôi cũng ráng đi nghía rồi để tiền mua. Tổng cộng tôi đã tậu đc sương sương vài em như robot hút bụi Neato d5, máy rửa chén tự động Xiaomi Viomi, máy lọc không khí Beurer. Nhìn chung thì mấy món tôi mua giá cũng ko quá cao nhưng mà xài cũng đc. Đợt black friday trước, tôi quyết định chơi sang tự vác tiền mua con máy giặt của LG tên AI DD.\\nĐợt tôi mua là cũng gan trời lắm vì vợ nhà không biết, tới khi biết là người ta giao hàng tới rồi vỡ lẽ. Sau 2 tháng dùng thì tôi sẽ làm 1 quả rì viêu là phụ, khoe của là chính nha mấy thím ))\\nVới độ đoảng và lười của cô vợ nhà tôi thì con máy giặt AI DD này quá là hợp lý. Nhờ vác thây vào Điện máy xanh nghe mấy chị tư vấn và về mò google mấy cái thông số kỹ thuật nên giờ tôi sẽ xài chút “vốn” hiểu biết để diễn giải con máy này cho mấy thím.\\nBỏ tiền thì cho đáng nên với tôi giặt sạch thôi là ko đủ, mà nó phải có nhiều tính năng ngầu ngầu vượt trội hơn mấy con khác. Con máy này đc tích hợp trí tuệ nhân tạo AI DD, con chip của nó chứa hơn 20.000 dữ liệu lớn. Lúc nghe là tôi thấy nhiệm màu rồi nên cũng hơi khoái khoái rồi đó.\\nTôi thấy con này siêu hợp với nhà đông người lắm nhen, thường thì giặt đồ vợ tôi phải ngồi phân loại vải cứng với vải mềm để tách ra giặt vì sợ hư đồ. Còn con máy AI DD này thì nó sẽ tự “cảm” được cân nặng và chất liệu của tất cả các loại quần áo trong chung mẻ giặt. Sau đó nó đề xuất cho mình chu trình ổn áp nhất, bảo vệ quần áo nhà mấy thím tốt nhất có thể luôn. Chỉ cần bấm 1 nút thôi là máy nó làm thay cho không phải nghĩ ngợi gì nhiều.\\nNgoài ra thì em nó còn được bonus hẳn 4 cái vòi phun nước. Mỗi lần giặt tôi nhìn nước phun mạnh từ 4 hướng và xoay đều hết lồng giặt là yên tâm quần áo sẽ được giặt sạch, ko bị dính cặn như máy cũ. Nước nó xịt mạnh nên mấy vết bẩn khi tôi ngồi hàn hay va quẹt khi lắp ráp cũng bị đánh bay. Chứ vòi mà phun lèo tèo như máy giặt cũ nhà tôi thì chắc ôm cục tức vô người rồi. Thời gian gIặt của con này chỉ có 39 phút thôi nên nhờ vậy mà vợ em không còn cớ né kèo “phơi đồ” nữa, mừng gần chết luôn mấy thím.\\nThôi kết nhanh ra chơi với con mấy thím ơi, thiết kế của con máy này rất vừa vặn với căn hộ có diện tích nhỏ như nhà tôi, dung tích 10,5kg mà vẫn để đc ngoài ban công nên tôi rất là ưng.\\nTừ ngày có mấy món đồ công nghệ xịn như vậy, vợ tôi cũng hết phàn nàn tốn thời gian làm việc nhà. Nói chớ, ráng để tiền mua đồ gia dụng ngon hịn để đỡ đần việc nhà cho mấy bà vợ. Nhà mấy thím thì tôi ko biết nhưng vợ nhà tôi làm cô giáo nên bận tối mũi với đám học trò. Mua cho ẻm đỡ cực mấy thím ơi.', 'Mời các bác vào tham luận cho vui. cái gì nên or không nên lắp, tốt cho sử dụng lâu dài hay theo sở thích cá nhân\\nEm trước - Tucson\\nMời các bác', 'Xin phép Add duyệt bài !!!\\nGiúp đỡ , tạo điều kiện giúp nhau đi lên ae nhé .\\nVẫn ép kính thay màn hình cho ae Grap , Be, Go jack, shipper nhé mọi người\\niPhone 6 =>> 8plus đồng giá 150k.\\nOppo, Xiaomi , hawei đồng giá 200 ( trừ một số loại máy sử dụng công nghệ màn Amoleg )\\nSamsung từ 200k =>>> .... ( vui lòng liên hệ..\\nThay pin giá gốc cho ae bảo hành 3 tháng.\\nRất mong được ae ghé qua ủng hộ và trải nhiệm dịch vụ.\\nCảm ơn vì đã đọc bài em !!!\\nĐ/c : số nhà 6 ngõ 71 đường Mỹ đình\\nSdt : 0977512226\\nCùng loại kính, các cửa hàng lớn nhiều chi phí dịch vụ: mặt bằng, lợi nhuận .... nhân viên. Em làm trực tiếp tại nhà riêng. Lấy rẻ kiếm cơm.\\nRủi ro cũng có, nhưng cố làm sao ít rủi ro nhất: ít vỡ màn thì vẫn có lãi ít.\\nNhiều cửa hàng. họ còn nhận ép kính. nhưng bóc máy ra lại mang màn vào các cửa hàng chuyên ép kính cho thợ làm. họ ăn chênh. lãi còn nhiều hơn người làm ép kính.', 'Mới nâng cấp máy, cần bán  hàng chính hãng SSVN, bản , 2 sim, hết bảo hành, nguyên bản, hình thức còn rất đẹp, mặt sau dán carbon từ lúc mua, hoạt động hoàn hảo.  fullbox, đủ hộp, sách, xạc, tai nghe zin', \":   và tuitham gia đánh con Beat : \\nXem thêm tại  chính thức tại (Tặng bạn thân bị chém) by by  aka by(Chào sân Event #1)( Feat  )Feat by  by  by  ft (nỗi buồn 60s) by  by by  - by  - by  by  by  (in dreamy challenging) by by  by  (Diss Xà) by  by by   ()by   (Dota 2) cover by cover by K'Leoly - DSK cover by Lệnh Hồ Huynh Đệ\", 'Anh em có thể mua online về thay :\\nTặng kèm bộ mở máy 9in1 ,Bộ này nhỏ gọn mà mở đầy đủ các ốc iphone. Tuy nhiên không thể so với chuyên dụng\\nLazada : \\nSendo : \\nShopee : \\nBảo hành luôn dung lượng sau 500 lần xạc còn hơn 80%, số lần xạc đạt đến mức 800 lần', 'HH shopM thu mua tất cả các loại máy game cũ đã qua sử dụng : PS2 PS3 PS4 PS VITA XBOX360 Wii 3DS NDS IPAD 1 IPAD 2 IPAD 3TAB......vv.........\\nm thu Mua máy chơi game các loại , ai bán cần thanh lý cần tiền gấp sms 0327494167 nhé zalo viber ..... thu mua cả hồ chí minh , hà nội toàn quốc . tỉnh khác thì ship cod đồng kiểm cho m\\nmua bán nhanh nhẹn mỗi máy chỉ cần test 1-2 phút\\nkhông cần bảo hành trách nhiệm ,sẵn sàng đến tận nơi mua , kể cả máy hỏng hay lỗi đều thu mua nhé\\nSDT của mình : 0327494167', '\\n=======================================================\\nSản phẩm bán chạy trên thị trường hiện nay sử dụng chip thế hệ mới Amlogic S905W là  ở phân khúc giá rẻ bình dân, được trang bị cấu hình mạnh mẽ nên đáp ứng tốt đầy đủ các nhu cầu giải trí như: xem phim độ nét cao (lên đến 4K), xem truyền hình, hát karaoke với đầy đủ các ca khúc, nghe nhạc, đọc báo, chơi game siêu mượt, lướt web,...\\nMáy sở hữu  (chip hỗ trợ âm thanh hình ảnh cực tốt, xử lý ứng dụng mượt) là thế hệ mới nhất của Amlogic.\\nTX3 Mini được trang bị , bộ nhớ trongcho chất lượng đọc ghi nhanh và ở tốc độ cao, khoảng xấp xỉ 20MB/S. Tốc độ Lan tối đa 100Mbps và chuẩn Wifi 1 băng tần thông dụng 2.4G.\\nThông số cấu hình của TV Box TX3 Mini ( Phiên bản Ram 2GB, Rom 16GB )\\nAndroid box TX3 Mini phiên bản 16GB Ram 2GB chip xử lý hàng đầu amlogic S905W\\nVới đầy đủ các cổng kết nối thông dụng của một chiếc Android TV Box, TX3 Mini sở hữu 2 cổng USB 2.0, 1 khay thẻ nhớ TF, 1 cổng LAN RJ45, cổng AV và 1 cổng HDMI. nguồn điện vào máy luôn ở chế độ an toàn chip ROM chuẩn eMMC nên có tốc độ đọc ghi dữ liệu nhanh (gấp 3 lần chuẩn Nand Flash)\\nVới cấu hình cực mạnh, TX3 Mini có thể xử lí tốt các tác vụ giải trí cơ bản của một chiếc TV Box như xem phim, xem truyền hình, hát karaoke, nghe nhạc, đọc báo. lướt web.... hay xa hơn có thể chơi Video 4K ở chất lượng cao nhất một cách mượt mà, chơi mượt các game nặng hiện có của Android điển hình như Asphalt 8, Morden Combat 5...\\nNgoài ra, TX3 Mini cũng được trang bị các chuẩn kết nối không dây tiên tiến nhất như Miracast, Airplay, DLNA... giúp truyền tải nội dung từ thiết bị di động như Smart phone, máy tính bảng lên màn hình TV, giúp việc giải trí của bạn trở nên dễ dàng hơn bao giờ hết.\\nAndroid box TX3 mini, dây HDMI, Điều Khiển, Nguồn.\\nVới việc được trang bị cấu hình và một mức giá như trên, TX3 Mini sẽ là sản phẩm rất đáng để sử dụng và trải nghiệm, nhất là đối với những người tiêu dùng bình dân, khi vấn đề thương hiệu không quá được đặt nặng. Nếu bạn là một người tiêu dùng bình dân thì đây là sản phẩm mà bạn không thể bỏ qua.', 'Bác nào có để lại cho em với ạ']\n",
      "[1, 3, 2, 1, 1, 0, 1, 1, 1, 1]\n",
      "[1, 3, 2, 1, 1, 0, 1, 1, 1, 1]\n"
     ]
    }
   ],
   "source": [
    "X=list(df['postCotent'])\n",
    "Y=list(df['forumName'])\n",
    "Y=[labelToNum(i) for i in Y]\n",
    "\n",
    "print(X[:10])\n",
    "print(Y[:10])\n",
    "print(Y[:10])"
   ]
  },
  {
   "cell_type": "code",
   "execution_count": null,
   "metadata": {
    "colab": {
     "base_uri": "https://localhost:8080/"
    },
    "collapsed": true,
    "id": "mseK94bgOWI8",
    "jupyter": {
     "outputs_hidden": true
    },
    "outputId": "871ff7b2-ee3b-4d0e-b81a-2b3c5ca3aded"
   },
   "outputs": [
    {
     "data": {
      "text/plain": [
       "['Máy',\n",
       " 'ngoại_hình',\n",
       " 'tốt',\n",
       " ',',\n",
       " 'ko',\n",
       " 'sướt',\n",
       " 'cấn',\n",
       " 'móp',\n",
       " '.',\n",
       " 'Pin',\n",
       " '100',\n",
       " '%',\n",
       " '.',\n",
       " 'Máy',\n",
       " 'đã',\n",
       " 'dán',\n",
       " 'ppf',\n",
       " ',',\n",
       " 'ốp',\n",
       " ',',\n",
       " 'kính',\n",
       " 'cường_lực',\n",
       " '.',\n",
       " 'Giấy_tờ',\n",
       " 'hóa_đơn',\n",
       " 'mua',\n",
       " 'còn',\n",
       " 'đầy_đủ',\n",
       " '.',\n",
       " 'Trong',\n",
       " 'tgian',\n",
       " 'bảo_hành',\n",
       " 'còn',\n",
       " 'được',\n",
       " 'thay',\n",
       " 'pin',\n",
       " 'miễn_phí',\n",
       " '.',\n",
       " 'Máy',\n",
       " 'đang',\n",
       " 'dùng',\n",
       " 'song_song',\n",
       " 'với',\n",
       " 'XR',\n",
       " ',',\n",
       " 'dư',\n",
       " 'nên',\n",
       " 'bán',\n",
       " '.',\n",
       " 'Sdt',\n",
       " 'liên_hệ',\n",
       " '0908',\n",
       " '607',\n",
       " '675',\n",
       " '.',\n",
       " 'Giá',\n",
       " 'chốt',\n",
       " '7.400.000',\n",
       " 'vnđ',\n",
       " '.']"
      ]
     },
     "execution_count": 95,
     "metadata": {
      "tags": []
     },
     "output_type": "execute_result"
    }
   ],
   "source": [
    "def tokenize(text):\n",
    "  return ViTokenizer.tokenize(text).split()\n",
    "\n",
    "data=[]\n",
    "for i in X:\n",
    "  data.append(tokenize(i))\n",
    "\n",
    "data[0]"
   ]
  },
  {
   "cell_type": "code",
   "execution_count": null,
   "metadata": {
    "collapsed": true,
    "id": "4XTIy-MHOYyK",
    "jupyter": {
     "outputs_hidden": true
    }
   },
   "outputs": [],
   "source": [
    "word_tokenizer = Tokenizer() \n",
    "word_tokenizer.fit_on_texts(data)  \n",
    "\n",
    "X= word_tokenizer.texts_to_sequences(X)  # use the tokeniser to encode input sequence"
   ]
  },
  {
   "cell_type": "code",
   "execution_count": null,
   "metadata": {
    "collapsed": true,
    "id": "EbFzpgGCOm2z",
    "jupyter": {
     "outputs_hidden": true
    }
   },
   "outputs": [],
   "source": [
    "MAX_SEQ_LENGTH = 100\n",
    "X_padded = pad_sequences(X, maxlen=MAX_SEQ_LENGTH, padding=\"pre\", truncating=\"post\")"
   ]
  },
  {
   "cell_type": "code",
   "execution_count": null,
   "metadata": {
    "collapsed": true,
    "id": "YU6hrAazOopT",
    "jupyter": {
     "outputs_hidden": true
    }
   },
   "outputs": [],
   "source": [
    "EMBEDDING_SIZE  = 300  # each word in fast model is represented using a 300 dimensional vector\n",
    "VOCABULARY_SIZE = len(word_tokenizer.word_index) + 1\n",
    "\n",
    "#link dowload: https://thiaisotajppub.s3-ap-northeast-1.amazonaws.com/publicfiles/baomoi.window2.vn.model.bin.gz\n",
    "path = '/content/drive/MyDrive/Học tập/Introduce Data Science/word2ve/baomoi.window2.vn.model.bin'\n",
    "word2vec = KeyedVectors.load_word2vec_format(path, binary=True)\n",
    "\n",
    "\n",
    "EMBEDDING_SIZE  = 300  # each word in word2vec model is represented using a 300 dimensional vector\n",
    "VOCABULARY_SIZE = len(word_tokenizer.word_index) + 1\n",
    "\n",
    "# create an empty embedding matix\n",
    "embedding_weights = np.zeros((VOCABULARY_SIZE, EMBEDDING_SIZE))\n",
    "\n",
    "# create a word to index dictionary mapping\n",
    "word2id = word_tokenizer.word_index\n",
    "\n",
    "# copy vectors from word2vec model to the words present in corpus\n",
    "for word, index in word2id.items():\n",
    "    try:\n",
    "        embedding_weights[index, :] = word2vec[word]\n",
    "    except KeyError:\n",
    "        pass"
   ]
  },
  {
   "cell_type": "code",
   "execution_count": null,
   "metadata": {
    "collapsed": true,
    "id": "Jo5_KnlfOvGU",
    "jupyter": {
     "outputs_hidden": true
    }
   },
   "outputs": [],
   "source": [
    "Y= to_categorical(Y)"
   ]
  },
  {
   "cell_type": "markdown",
   "metadata": {},
   "source": [
    "# Build model\n"
   ]
  },
  {
   "cell_type": "code",
   "execution_count": null,
   "metadata": {
    "collapsed": true,
    "id": "Xi-sOD-KO1rW",
    "jupyter": {
     "outputs_hidden": true
    }
   },
   "outputs": [],
   "source": [
    "rnn_model = Sequential()\n",
    "\n",
    "# create embedding layer - usually the first layer in text problems\n",
    "rnn_model.add(Embedding(input_dim     =  VOCABULARY_SIZE,         # vocabulary size - number of unique words in data\n",
    "                        output_dim    =  EMBEDDING_SIZE,          # length of vector with which each word is represented\n",
    "                        input_length  =  MAX_SEQ_LENGTH,          # length of input sequence\n",
    "                        weights       = [embedding_weights],      # word embedding matrix\n",
    "                        trainable     =  True                     # True - update the embeddings while training\n",
    "))\n",
    "\n",
    "# add an RNN layer which contains 64 RNN cells\n",
    "rnn_model.add(Bidirectional(LSTM(64, \n",
    "              return_sequences=False  # True - return whole sequence; False - return single output of the end of the sequence\n",
    ")))\n",
    "\n",
    "rnn_model.add(Dense(4, activation='softmax'))"
   ]
  },
  {
   "cell_type": "code",
   "execution_count": null,
   "metadata": {
    "colab": {
     "base_uri": "https://localhost:8080/"
    },
    "collapsed": true,
    "id": "hz-CWXUfO3y-",
    "jupyter": {
     "outputs_hidden": true
    },
    "outputId": "4cc82fc3-5d6c-49f7-be22-d4f48f5c1aac"
   },
   "outputs": [
    {
     "name": "stdout",
     "output_type": "stream",
     "text": [
      "Model: \"sequential_3\"\n",
      "_________________________________________________________________\n",
      "Layer (type)                 Output Shape              Param #   \n",
      "=================================================================\n",
      "embedding_3 (Embedding)      (None, 100, 300)          9052500   \n",
      "_________________________________________________________________\n",
      "bidirectional_3 (Bidirection (None, 128)               186880    \n",
      "_________________________________________________________________\n",
      "dense_3 (Dense)              (None, 4)                 516       \n",
      "=================================================================\n",
      "Total params: 9,239,896\n",
      "Trainable params: 9,239,896\n",
      "Non-trainable params: 0\n",
      "_________________________________________________________________\n"
     ]
    }
   ],
   "source": [
    "rnn_model.summary()"
   ]
  },
  {
   "cell_type": "code",
   "execution_count": null,
   "metadata": {
    "collapsed": true,
    "id": "_0XfYleKO5Qt",
    "jupyter": {
     "outputs_hidden": true
    }
   },
   "outputs": [],
   "source": [
    "rnn_model.compile(loss      =  'categorical_crossentropy',\n",
    "                  optimizer =  'adam',\n",
    "                  metrics   =  ['acc'])"
   ]
  },
  {
   "cell_type": "markdown",
   "metadata": {},
   "source": [
    "# Train model"
   ]
  },
  {
   "cell_type": "code",
   "execution_count": 103,
   "metadata": {
    "colab": {
     "base_uri": "https://localhost:8080/"
    },
    "collapsed": true,
    "id": "HiPGDEKXO8Bq",
    "jupyter": {
     "outputs_hidden": true
    },
    "outputId": "6e40a630-2637-49cf-d9ad-2e35fd4a2745"
   },
   "outputs": [
    {
     "name": "stdout",
     "output_type": "stream",
     "text": [
      "Epoch 1/10\n",
      "42/42 [==============================] - 30s 628ms/step - loss: 1.1940 - acc: 0.4908\n",
      "Epoch 2/10\n",
      "42/42 [==============================] - 26s 623ms/step - loss: 0.5138 - acc: 0.8271\n",
      "Epoch 3/10\n",
      "42/42 [==============================] - 28s 670ms/step - loss: 0.2558 - acc: 0.9186\n",
      "Epoch 4/10\n",
      "42/42 [==============================] - 26s 621ms/step - loss: 0.1646 - acc: 0.9465\n",
      "Epoch 5/10\n",
      "42/42 [==============================] - 26s 617ms/step - loss: 0.1133 - acc: 0.9660\n",
      "Epoch 6/10\n",
      "42/42 [==============================] - 26s 629ms/step - loss: 0.0874 - acc: 0.9748\n",
      "Epoch 7/10\n",
      "42/42 [==============================] - 26s 624ms/step - loss: 0.0782 - acc: 0.9784\n",
      "Epoch 8/10\n",
      "42/42 [==============================] - 26s 620ms/step - loss: 0.0599 - acc: 0.9813\n",
      "Epoch 9/10\n",
      "42/42 [==============================] - 26s 620ms/step - loss: 0.0396 - acc: 0.9919\n",
      "Epoch 10/10\n",
      "42/42 [==============================] - 26s 625ms/step - loss: 0.0337 - acc: 0.9909\n"
     ]
    }
   ],
   "source": [
    "rnn_training = rnn_model.fit(X_padded, Y, batch_size=128, epochs=10)"
   ]
  },
  {
   "cell_type": "markdown",
   "metadata": {},
   "source": [
    "# Save model"
   ]
  },
  {
   "cell_type": "code",
   "execution_count": 104,
   "metadata": {
    "collapsed": true,
    "id": "UPzWcBNSO9eq",
    "jupyter": {
     "outputs_hidden": true
    }
   },
   "outputs": [],
   "source": [
    "#chon thu muc can luu\n",
    "rnn_model.save('/content/drive/MyDrive/Học tập/Introduce Data Science/model.h5')"
   ]
  },
  {
   "cell_type": "markdown",
   "metadata": {},
   "source": [
    "# Test model"
   ]
  },
  {
   "cell_type": "code",
   "execution_count": 105,
   "metadata": {
    "colab": {
     "base_uri": "https://localhost:8080/"
    },
    "id": "PXtkkS-YPvN5",
    "outputId": "7a4d2c33-5ec6-4051-acbf-d4fd2c740728"
   },
   "outputs": [
    {
     "data": {
      "text/plain": [
       "array([[0.03097977, 0.9216357 , 0.01139944, 0.0359851 ]], dtype=float32)"
      ]
     },
     "execution_count": 105,
     "metadata": {
      "tags": []
     },
     "output_type": "execute_result"
    }
   ],
   "source": [
    "test='Điện thoại Iphone10 vừa ra mắt thật đẹp muốn mua mà không có tiền'\n",
    "\n",
    "def embedding(text):\n",
    "  text= ViTokenizer.tokenize(text).split(text)\n",
    "  \n",
    "  text = word_tokenizer.texts_to_sequences(text)\n",
    "  \n",
    "  \n",
    "  text= pad_sequences(text, maxlen=MAX_SEQ_LENGTH, padding=\"pre\", truncating=\"post\")\n",
    "\n",
    "  return text;\n",
    "\n",
    "test=embedding(test)\n",
    "\n",
    "rs=rnn_model.predict(test)\n",
    "rs\n",
    "#ket qua => xac suat thuoc lop 1 la 0.86 => thuoc lop 1"
   ]
  },
  {
   "cell_type": "code",
   "execution_count": 106,
   "metadata": {
    "colab": {
     "base_uri": "https://localhost:8080/",
     "height": 35
    },
    "collapsed": true,
    "id": "OzVx7FxMXoeP",
    "jupyter": {
     "outputs_hidden": true
    },
    "outputId": "bff2bc17-62b2-4404-8354-e3de3c9bf58c"
   },
   "outputs": [
    {
     "data": {
      "application/vnd.google.colaboratory.intrinsic+json": {
       "type": "string"
      },
      "text/plain": [
       "'Điện thoại di động'"
      ]
     },
     "execution_count": 106,
     "metadata": {
      "tags": []
     },
     "output_type": "execute_result"
    }
   ],
   "source": [
    "# lay nhan cua lop 1\n",
    "numToLabel(1)"
   ]
  }
 ],
 "metadata": {
  "colab": {
   "authorship_tag": "ABX9TyPe12xbuTH9q0RfUAqMksEs",
   "collapsed_sections": [],
   "mount_file_id": "1Srr8VmYNfVH7FO_DU6JxG4qoE3LLaR8N",
   "name": "TextClassification phien ban 2.ipynb",
   "provenance": []
  },
  "kernelspec": {
   "display_name": "Python 3",
   "language": "python",
   "name": "python3"
  },
  "language_info": {
   "codemirror_mode": {
    "name": "ipython",
    "version": 3
   },
   "file_extension": ".py",
   "mimetype": "text/x-python",
   "name": "python",
   "nbconvert_exporter": "python",
   "pygments_lexer": "ipython3",
   "version": "3.9.1"
  }
 },
 "nbformat": 4,
 "nbformat_minor": 4
}
