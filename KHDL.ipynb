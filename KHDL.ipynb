{
  "nbformat": 4,
  "nbformat_minor": 0,
  "metadata": {
    "colab": {
      "name": "KHDL.ipynb",
      "provenance": [],
      "collapsed_sections": [],
      "include_colab_link": true
    },
    "kernelspec": {
      "display_name": "Python 3",
      "language": "python",
      "name": "python3"
    },
    "language_info": {
      "codemirror_mode": {
        "name": "ipython",
        "version": 3
      },
      "file_extension": ".py",
      "mimetype": "text/x-python",
      "name": "python",
      "nbconvert_exporter": "python",
      "pygments_lexer": "ipython3",
      "version": "3.6.9"
    }
  },
  "cells": [
    {
      "cell_type": "markdown",
      "metadata": {
        "id": "view-in-github",
        "colab_type": "text"
      },
      "source": [
        "<a href=\"https://colab.research.google.com/github/qhuy4119/1712858-1712495-nmkhdl/blob/main/KHDL.ipynb\" target=\"_parent\"><img src=\"https://colab.research.google.com/assets/colab-badge.svg\" alt=\"Open In Colab\"/></a>"
      ]
    },
    {
      "cell_type": "code",
      "metadata": {
        "id": "mYj6N5Tzonsy"
      },
      "source": [
        "import pandas as pd\n",
        "import numpy as np\n",
        "import matplotlib.pyplot as plt\n",
        "\n",
        "from keras.layers import Dropout\n",
        "from keras.models import Sequential\n",
        "from keras.layers import LSTM\n",
        "from keras.layers import Dense\n",
        "from keras.layers import Bidirectional\n",
        "from keras import optimizers\n",
        "\n",
        "from sklearn.model_selection import train_test_split\n",
        "from sklearn.preprocessing import MinMaxScaler"
      ],
      "execution_count": null,
      "outputs": []
    },
    {
      "cell_type": "code",
      "metadata": {
        "colab": {
          "base_uri": "https://localhost:8080/"
        },
        "id": "fyvXSb41ovVL",
        "outputId": "430e2421-7959-4f1f-bd8b-4676abae15cb"
      },
      "source": [
        "from google.colab import drive\n",
        "drive.mount('/content/drive')"
      ],
      "execution_count": null,
      "outputs": [
        {
          "output_type": "stream",
          "text": [
            "Drive already mounted at /content/drive; to attempt to forcibly remount, call drive.mount(\"/content/drive\", force_remount=True).\n"
          ],
          "name": "stdout"
        }
      ]
    },
    {
      "cell_type": "code",
      "metadata": {
        "id": "MvjrGp_zontE"
      },
      "source": [
        "df=pd.read_csv('/content/drive/MyDrive/Môn học/Introduce Data Science/Đố án/price-history_28-12-2020.csv')"
      ],
      "execution_count": null,
      "outputs": []
    },
    {
      "cell_type": "code",
      "metadata": {
        "colab": {
          "base_uri": "https://localhost:8080/",
          "height": 424
        },
        "id": "5PCBq49DontI",
        "outputId": "0b729e7c-3e93-4948-a85a-fd840e1a3543"
      },
      "source": [
        "df"
      ],
      "execution_count": null,
      "outputs": [
        {
          "output_type": "execute_result",
          "data": {
            "text/html": [
              "<div>\n",
              "<style scoped>\n",
              "    .dataframe tbody tr th:only-of-type {\n",
              "        vertical-align: middle;\n",
              "    }\n",
              "\n",
              "    .dataframe tbody tr th {\n",
              "        vertical-align: top;\n",
              "    }\n",
              "\n",
              "    .dataframe thead th {\n",
              "        text-align: right;\n",
              "    }\n",
              "</style>\n",
              "<table border=\"1\" class=\"dataframe\">\n",
              "  <thead>\n",
              "    <tr style=\"text-align: right;\">\n",
              "      <th></th>\n",
              "      <th>Date</th>\n",
              "      <th>Close</th>\n",
              "      <th>Open</th>\n",
              "      <th>Highest</th>\n",
              "      <th>Lowest</th>\n",
              "    </tr>\n",
              "  </thead>\n",
              "  <tbody>\n",
              "    <tr>\n",
              "      <th>0</th>\n",
              "      <td>12/25/2020</td>\n",
              "      <td>46600</td>\n",
              "      <td>45500</td>\n",
              "      <td>46700</td>\n",
              "      <td>45000</td>\n",
              "    </tr>\n",
              "    <tr>\n",
              "      <th>1</th>\n",
              "      <td>12/24/2020</td>\n",
              "      <td>45500</td>\n",
              "      <td>45500</td>\n",
              "      <td>46800</td>\n",
              "      <td>43900</td>\n",
              "    </tr>\n",
              "    <tr>\n",
              "      <th>2</th>\n",
              "      <td>12/23/2020</td>\n",
              "      <td>46600</td>\n",
              "      <td>47000</td>\n",
              "      <td>47500</td>\n",
              "      <td>46400</td>\n",
              "    </tr>\n",
              "    <tr>\n",
              "      <th>3</th>\n",
              "      <td>12/22/2020</td>\n",
              "      <td>46850</td>\n",
              "      <td>47450</td>\n",
              "      <td>47450</td>\n",
              "      <td>46600</td>\n",
              "    </tr>\n",
              "    <tr>\n",
              "      <th>4</th>\n",
              "      <td>12/21/2020</td>\n",
              "      <td>47450</td>\n",
              "      <td>47900</td>\n",
              "      <td>48000</td>\n",
              "      <td>46500</td>\n",
              "    </tr>\n",
              "    <tr>\n",
              "      <th>...</th>\n",
              "      <td>...</td>\n",
              "      <td>...</td>\n",
              "      <td>...</td>\n",
              "      <td>...</td>\n",
              "      <td>...</td>\n",
              "    </tr>\n",
              "    <tr>\n",
              "      <th>1714</th>\n",
              "      <td>02/10/2014</td>\n",
              "      <td>17000</td>\n",
              "      <td>16500</td>\n",
              "      <td>17200</td>\n",
              "      <td>16200</td>\n",
              "    </tr>\n",
              "    <tr>\n",
              "      <th>1715</th>\n",
              "      <td>02/07/2014</td>\n",
              "      <td>16600</td>\n",
              "      <td>17400</td>\n",
              "      <td>17500</td>\n",
              "      <td>16500</td>\n",
              "    </tr>\n",
              "    <tr>\n",
              "      <th>1716</th>\n",
              "      <td>02/06/2014</td>\n",
              "      <td>17600</td>\n",
              "      <td>18200</td>\n",
              "      <td>18300</td>\n",
              "      <td>17600</td>\n",
              "    </tr>\n",
              "    <tr>\n",
              "      <th>1717</th>\n",
              "      <td>01/27/2014</td>\n",
              "      <td>18400</td>\n",
              "      <td>18700</td>\n",
              "      <td>18800</td>\n",
              "      <td>18100</td>\n",
              "    </tr>\n",
              "    <tr>\n",
              "      <th>1718</th>\n",
              "      <td>01/24/2014</td>\n",
              "      <td>18800</td>\n",
              "      <td>19000</td>\n",
              "      <td>19500</td>\n",
              "      <td>18500</td>\n",
              "    </tr>\n",
              "  </tbody>\n",
              "</table>\n",
              "<p>1719 rows × 5 columns</p>\n",
              "</div>"
            ],
            "text/plain": [
              "            Date  Close   Open  Highest  Lowest\n",
              "0     12/25/2020  46600  45500    46700   45000\n",
              "1     12/24/2020  45500  45500    46800   43900\n",
              "2     12/23/2020  46600  47000    47500   46400\n",
              "3     12/22/2020  46850  47450    47450   46600\n",
              "4     12/21/2020  47450  47900    48000   46500\n",
              "...          ...    ...    ...      ...     ...\n",
              "1714  02/10/2014  17000  16500    17200   16200\n",
              "1715  02/07/2014  16600  17400    17500   16500\n",
              "1716  02/06/2014  17600  18200    18300   17600\n",
              "1717  01/27/2014  18400  18700    18800   18100\n",
              "1718  01/24/2014  18800  19000    19500   18500\n",
              "\n",
              "[1719 rows x 5 columns]"
            ]
          },
          "metadata": {
            "tags": []
          },
          "execution_count": 20
        }
      ]
    },
    {
      "cell_type": "code",
      "metadata": {
        "id": "-vbVsLJ4ontM"
      },
      "source": [
        "Date=np.array(df['Date'])\n",
        "Close=np.array(df['Close'])\n",
        "Open=np.array(df['Open'])\n",
        "Highest=np.array(df['Highest'])\n",
        "Lowest=np.array(df['Lowest'])"
      ],
      "execution_count": null,
      "outputs": []
    },
    {
      "cell_type": "code",
      "metadata": {
        "colab": {
          "base_uri": "https://localhost:8080/",
          "height": 513
        },
        "id": "UgYtUeg4ontQ",
        "outputId": "55c951a5-2388-4297-e48a-94c290ce428f"
      },
      "source": [
        "#VISUALIZE\n",
        "plt.plot(Close, label='Close')\n",
        "plt.plot(Open,label='Open')\n",
        "plt.plot(Highest,label='Highest')\n",
        "plt.plot(Lowest,label='Lowest')\n",
        "plt.legend()\n",
        "plt.show()\n",
        "\n",
        "plt.plot(Close[720:750], label='Close')\n",
        "plt.plot(Open[720:750],label='Open')\n",
        "plt.plot(Highest[720:750],label='Highest')\n",
        "plt.plot(Lowest[720:750],label='Lowest')\n",
        "plt.legend()\n",
        "plt.show()\n",
        "\n",
        "n_features=4\n",
        "n_steps=30"
      ],
      "execution_count": null,
      "outputs": [
        {
          "output_type": "display_data",
          "data": {
            "image/png": "[encoded data removed]",
            "text/plain": [
              "<Figure size 432x288 with 1 Axes>"
            ]
          },
          "metadata": {
            "tags": []
          }
        },
        {
          "output_type": "display_data",
          "data": {
            "image/png": "[encoded data removed]",
            "text/plain": [
              "<Figure size 432x288 with 1 Axes>"
            ]
          },
          "metadata": {
            "tags": []
          }
        }
      ]
    },
    {
      "cell_type": "code",
      "metadata": {
        "id": "uogN4vKqontS"
      },
      "source": [
        "def create_LSTM(n_steps,n_features):\n",
        "    model = Sequential()\n",
        "    model.add(Bidirectional((LSTM(300, activation='relu', return_sequences=True, input_shape=(n_steps, n_features)))))\n",
        "    model.add(Bidirectional((LSTM(300, activation='relu'))))\n",
        "\n",
        "    model.add(Dense(300))\n",
        "    model.add(Dense(n_features))\n",
        "    initial_learning_rate = 0.1\n",
        "    lr_schedule = optimizers.schedules.ExponentialDecay(\n",
        "        initial_learning_rate,\n",
        "        decay_steps=100000,\n",
        "        decay_rate=0.96,\n",
        "        staircase=True)\n",
        "\n",
        "    model.compile(optimizer=optimizers.SGD(learning_rate=lr_schedule), loss='mse',metrics=['mean_squared_error'])\n",
        "    print('Long Short-Term Memory networks Summary: ')\n",
        "    #print(model.summary())\n",
        "  \n",
        "    return model;"
      ],
      "execution_count": null,
      "outputs": []
    },
    {
      "cell_type": "code",
      "metadata": {
        "colab": {
          "base_uri": "https://localhost:8080/"
        },
        "id": "zbzhRM13ontU",
        "outputId": "7fbaaecc-2a7c-4ac3-c6ac-6bd7cd399dfa"
      },
      "source": [
        "model = create_LSTM(n_steps,n_features)"
      ],
      "execution_count": null,
      "outputs": [
        {
          "output_type": "stream",
          "text": [
            "Long Short-Term Memory networks Summary: \n"
          ],
          "name": "stdout"
        }
      ]
    },
    {
      "cell_type": "code",
      "metadata": {
        "id": "nL5sO26EontV"
      },
      "source": [
        "def split_sequences(sequences, n_steps):\n",
        "    X, y = list(), list()\n",
        "    for i in range(len(sequences)):\n",
        "        end_ix = i + n_steps\n",
        "        if end_ix > len(sequences)-1:\n",
        "            break\n",
        "        seq_x, seq_y = sequences[i:end_ix, :], sequences[end_ix, :]\n",
        "        X.append(seq_x)\n",
        "        y.append(seq_y)\n",
        "    return np.array(X), np.array(y)"
      ],
      "execution_count": null,
      "outputs": []
    },
    {
      "cell_type": "code",
      "metadata": {
        "colab": {
          "base_uri": "https://localhost:8080/"
        },
        "id": "SaBIy18WontX",
        "outputId": "67c0ceaa-ca8d-4f92-bca5-908287981aa4"
      },
      "source": [
        "print('Close Shape Before: ',Close.shape)\n",
        "Close = Close.reshape((len(Close), 1))\n",
        "Open = Open.reshape((len(Open), 1))\n",
        "Highest = Highest.reshape((len(Highest), 1))\n",
        "Lowest = Lowest.reshape((len(Lowest), 1))\n",
        "dataset = np.hstack((Close,Open,Highest,Lowest))\n",
        "\n",
        "print('Close Shape After: ',Close.shape)\n",
        "print('Dataset Shape: ',dataset.shape)"
      ],
      "execution_count": null,
      "outputs": [
        {
          "output_type": "stream",
          "text": [
            "Close Shape Before:  (1719,)\n",
            "Close Shape After:  (1719, 1)\n",
            "Dataset Shape:  (1719, 4)\n"
          ],
          "name": "stdout"
        }
      ]
    },
    {
      "cell_type": "code",
      "metadata": {
        "id": "CqlzLpv3ontZ"
      },
      "source": [
        "dataset_train,dataset_test=train_test_split(dataset,shuffle=False,test_size=0.2)"
      ],
      "execution_count": null,
      "outputs": []
    },
    {
      "cell_type": "code",
      "metadata": {
        "colab": {
          "base_uri": "https://localhost:8080/"
        },
        "id": "EUX-sfh8ontc",
        "outputId": "e29a4246-084e-4bba-9bd4-cfca83e8ab5c"
      },
      "source": [
        "scaler=MinMaxScaler(feature_range=(-1,1))\n",
        "scaler.fit(dataset_train)\n",
        "\n",
        "dataset_train=scaler.transform(dataset_train)\n",
        "dataset_test=scaler.transform(dataset_test)\n",
        "\n",
        "x_train, y_train = split_sequences(dataset_train, n_steps)\n",
        "x_test,y_test=split_sequences(dataset_test,n_steps)\n",
        "\n",
        "print('X Shape: ',x_train.shape)\n",
        "print('Y Shape: ',y_train.shape)"
      ],
      "execution_count": null,
      "outputs": [
        {
          "output_type": "stream",
          "text": [
            "X Shape:  (1345, 30, 4)\n",
            "Y Shape:  (1345, 4)\n"
          ],
          "name": "stdout"
        }
      ]
    },
    {
      "cell_type": "code",
      "metadata": {
        "colab": {
          "background_save": true,
          "base_uri": "https://localhost:8080/"
        },
        "id": "3c1E5--dontg",
        "outputId": "f4eaf73b-1dec-40d4-c71c-e2a8e6293b88"
      },
      "source": [
        "history=model.fit(x_train, y_train, epochs=60, verbose=1,validation_data=(x_test, y_test))"
      ],
      "execution_count": null,
      "outputs": [
        {
          "output_type": "stream",
          "text": [
            "Epoch 1/60\n",
            "43/43 [==============================] - 37s 752ms/step - loss: 0.1100 - mean_squared_error: 0.1100 - val_loss: 0.0115 - val_mean_squared_error: 0.0115\n",
            "Epoch 2/60\n",
            "43/43 [==============================] - 30s 703ms/step - loss: 0.0134 - mean_squared_error: 0.0134 - val_loss: 0.0091 - val_mean_squared_error: 0.0091\n",
            "Epoch 3/60\n",
            "43/43 [==============================] - 29s 668ms/step - loss: 0.0108 - mean_squared_error: 0.0108 - val_loss: 0.0015 - val_mean_squared_error: 0.0015\n",
            "Epoch 4/60\n",
            "43/43 [==============================] - 29s 674ms/step - loss: 0.0089 - mean_squared_error: 0.0089 - val_loss: 0.0014 - val_mean_squared_error: 0.0014\n",
            "Epoch 5/60\n",
            "43/43 [==============================] - 29s 676ms/step - loss: 0.0084 - mean_squared_error: 0.0084 - val_loss: 0.0012 - val_mean_squared_error: 0.0012\n",
            "Epoch 6/60\n",
            "43/43 [==============================] - 30s 689ms/step - loss: 0.0097 - mean_squared_error: 0.0097 - val_loss: 0.0011 - val_mean_squared_error: 0.0011\n",
            "Epoch 7/60\n",
            "43/43 [==============================] - 31s 724ms/step - loss: 0.0110 - mean_squared_error: 0.0110 - val_loss: 0.0026 - val_mean_squared_error: 0.0026\n",
            "Epoch 8/60\n",
            "43/43 [==============================] - 32s 734ms/step - loss: 0.0066 - mean_squared_error: 0.0066 - val_loss: 0.0010 - val_mean_squared_error: 0.0010\n",
            "Epoch 9/60\n",
            "43/43 [==============================] - 31s 712ms/step - loss: 0.0056 - mean_squared_error: 0.0056 - val_loss: 0.0024 - val_mean_squared_error: 0.0024\n",
            "Epoch 10/60\n",
            "43/43 [==============================] - 30s 703ms/step - loss: 0.0072 - mean_squared_error: 0.0072 - val_loss: 0.0029 - val_mean_squared_error: 0.0029\n",
            "Epoch 11/60\n",
            "43/43 [==============================] - 32s 753ms/step - loss: 0.0064 - mean_squared_error: 0.0064 - val_loss: 0.0010 - val_mean_squared_error: 0.0010\n",
            "Epoch 12/60\n",
            "43/43 [==============================] - 31s 725ms/step - loss: 0.0059 - mean_squared_error: 0.0059 - val_loss: 0.0016 - val_mean_squared_error: 0.0016\n",
            "Epoch 13/60\n",
            "43/43 [==============================] - 31s 720ms/step - loss: 0.0042 - mean_squared_error: 0.0042 - val_loss: 8.8586e-04 - val_mean_squared_error: 8.8586e-04\n",
            "Epoch 14/60\n",
            "43/43 [==============================] - 33s 770ms/step - loss: 0.0034 - mean_squared_error: 0.0034 - val_loss: 8.3102e-04 - val_mean_squared_error: 8.3102e-04\n",
            "Epoch 15/60\n",
            "43/43 [==============================] - 32s 749ms/step - loss: 0.0053 - mean_squared_error: 0.0053 - val_loss: 8.2151e-04 - val_mean_squared_error: 8.2151e-04\n",
            "Epoch 16/60\n",
            "43/43 [==============================] - 31s 722ms/step - loss: 0.0042 - mean_squared_error: 0.0042 - val_loss: 0.0011 - val_mean_squared_error: 0.0011\n",
            "Epoch 17/60\n",
            "43/43 [==============================] - 31s 721ms/step - loss: 0.0066 - mean_squared_error: 0.0066 - val_loss: 0.0025 - val_mean_squared_error: 0.0025\n",
            "Epoch 18/60\n",
            "43/43 [==============================] - 32s 735ms/step - loss: 0.0054 - mean_squared_error: 0.0054 - val_loss: 0.0010 - val_mean_squared_error: 0.0010\n",
            "Epoch 19/60\n",
            "43/43 [==============================] - 31s 723ms/step - loss: 0.0035 - mean_squared_error: 0.0035 - val_loss: 7.5210e-04 - val_mean_squared_error: 7.5210e-04\n",
            "Epoch 20/60\n",
            "43/43 [==============================] - 30s 708ms/step - loss: 0.0042 - mean_squared_error: 0.0042 - val_loss: 7.3875e-04 - val_mean_squared_error: 7.3875e-04\n",
            "Epoch 21/60\n",
            "43/43 [==============================] - 32s 736ms/step - loss: 0.0043 - mean_squared_error: 0.0043 - val_loss: 7.4430e-04 - val_mean_squared_error: 7.4430e-04\n",
            "Epoch 22/60\n",
            "43/43 [==============================] - 31s 712ms/step - loss: 0.0032 - mean_squared_error: 0.0032 - val_loss: 0.0028 - val_mean_squared_error: 0.0028\n",
            "Epoch 23/60\n",
            "43/43 [==============================] - 29s 680ms/step - loss: 0.0042 - mean_squared_error: 0.0042 - val_loss: 7.3437e-04 - val_mean_squared_error: 7.3437e-04\n",
            "Epoch 24/60\n",
            "43/43 [==============================] - 28s 661ms/step - loss: 0.0029 - mean_squared_error: 0.0029 - val_loss: 0.0079 - val_mean_squared_error: 0.0079\n",
            "Epoch 25/60\n",
            "43/43 [==============================] - 30s 702ms/step - loss: 0.0059 - mean_squared_error: 0.0059 - val_loss: 8.1688e-04 - val_mean_squared_error: 8.1688e-04\n",
            "Epoch 26/60\n",
            "43/43 [==============================] - 30s 704ms/step - loss: 0.0068 - mean_squared_error: 0.0068 - val_loss: 0.0010 - val_mean_squared_error: 0.0010\n",
            "Epoch 27/60\n",
            "43/43 [==============================] - 30s 698ms/step - loss: 0.0027 - mean_squared_error: 0.0027 - val_loss: 0.0029 - val_mean_squared_error: 0.0029\n",
            "Epoch 28/60\n",
            "43/43 [==============================] - 28s 661ms/step - loss: 0.0035 - mean_squared_error: 0.0035 - val_loss: 7.3548e-04 - val_mean_squared_error: 7.3548e-04\n",
            "Epoch 29/60\n",
            "43/43 [==============================] - 29s 675ms/step - loss: 0.0046 - mean_squared_error: 0.0046 - val_loss: 6.9886e-04 - val_mean_squared_error: 6.9886e-04\n",
            "Epoch 30/60\n",
            "43/43 [==============================] - 29s 673ms/step - loss: 0.0045 - mean_squared_error: 0.0045 - val_loss: 9.2938e-04 - val_mean_squared_error: 9.2938e-04\n",
            "Epoch 31/60\n",
            "43/43 [==============================] - 29s 681ms/step - loss: 0.0031 - mean_squared_error: 0.0031 - val_loss: 6.6064e-04 - val_mean_squared_error: 6.6064e-04\n",
            "Epoch 32/60\n",
            "43/43 [==============================] - 29s 682ms/step - loss: 0.0048 - mean_squared_error: 0.0048 - val_loss: 0.0013 - val_mean_squared_error: 0.0013\n",
            "Epoch 33/60\n",
            "43/43 [==============================] - 29s 681ms/step - loss: 0.0029 - mean_squared_error: 0.0029 - val_loss: 9.0176e-04 - val_mean_squared_error: 9.0176e-04\n",
            "Epoch 34/60\n",
            "43/43 [==============================] - 29s 676ms/step - loss: 0.0027 - mean_squared_error: 0.0027 - val_loss: 0.0015 - val_mean_squared_error: 0.0015\n",
            "Epoch 35/60\n",
            "43/43 [==============================] - 28s 655ms/step - loss: 0.0035 - mean_squared_error: 0.0035 - val_loss: 0.0043 - val_mean_squared_error: 0.0043\n",
            "Epoch 36/60\n",
            "43/43 [==============================] - 28s 651ms/step - loss: 0.0056 - mean_squared_error: 0.0056 - val_loss: 9.3633e-04 - val_mean_squared_error: 9.3633e-04\n",
            "Epoch 37/60\n",
            "43/43 [==============================] - 28s 651ms/step - loss: 0.0038 - mean_squared_error: 0.0038 - val_loss: 0.0015 - val_mean_squared_error: 0.0015\n",
            "Epoch 38/60\n",
            "43/43 [==============================] - 28s 656ms/step - loss: 0.0041 - mean_squared_error: 0.0041 - val_loss: 0.0020 - val_mean_squared_error: 0.0020\n",
            "Epoch 39/60\n",
            "43/43 [==============================] - 30s 698ms/step - loss: 0.0034 - mean_squared_error: 0.0034 - val_loss: 6.5300e-04 - val_mean_squared_error: 6.5300e-04\n",
            "Epoch 40/60\n",
            "43/43 [==============================] - 30s 707ms/step - loss: 0.0042 - mean_squared_error: 0.0042 - val_loss: 0.0077 - val_mean_squared_error: 0.0077\n",
            "Epoch 41/60\n",
            "43/43 [==============================] - 30s 698ms/step - loss: 0.0070 - mean_squared_error: 0.0070 - val_loss: 0.0013 - val_mean_squared_error: 0.0013\n",
            "Epoch 42/60\n",
            "43/43 [==============================] - 30s 697ms/step - loss: 0.0043 - mean_squared_error: 0.0043 - val_loss: 0.0013 - val_mean_squared_error: 0.0013\n",
            "Epoch 43/60\n",
            "43/43 [==============================] - 29s 683ms/step - loss: 0.0049 - mean_squared_error: 0.0049 - val_loss: 9.8141e-04 - val_mean_squared_error: 9.8141e-04\n",
            "Epoch 44/60\n",
            "43/43 [==============================] - 29s 680ms/step - loss: 0.0050 - mean_squared_error: 0.0050 - val_loss: 6.3020e-04 - val_mean_squared_error: 6.3020e-04\n",
            "Epoch 45/60\n",
            "43/43 [==============================] - 29s 687ms/step - loss: 0.0031 - mean_squared_error: 0.0031 - val_loss: 5.8432e-04 - val_mean_squared_error: 5.8432e-04\n",
            "Epoch 46/60\n",
            "43/43 [==============================] - 29s 671ms/step - loss: 0.0051 - mean_squared_error: 0.0051 - val_loss: 0.0015 - val_mean_squared_error: 0.0015\n",
            "Epoch 47/60\n",
            "43/43 [==============================] - 28s 652ms/step - loss: 0.0041 - mean_squared_error: 0.0041 - val_loss: 7.2769e-04 - val_mean_squared_error: 7.2769e-04\n",
            "Epoch 48/60\n",
            "43/43 [==============================] - 29s 664ms/step - loss: 0.0032 - mean_squared_error: 0.0032 - val_loss: 6.2903e-04 - val_mean_squared_error: 6.2903e-04\n",
            "Epoch 49/60\n",
            "43/43 [==============================] - 29s 677ms/step - loss: 0.0027 - mean_squared_error: 0.0027 - val_loss: 6.8204e-04 - val_mean_squared_error: 6.8204e-04\n",
            "Epoch 50/60\n",
            "43/43 [==============================] - 28s 662ms/step - loss: 0.0030 - mean_squared_error: 0.0030 - val_loss: 5.9389e-04 - val_mean_squared_error: 5.9389e-04\n",
            "Epoch 51/60\n",
            "43/43 [==============================] - 28s 660ms/step - loss: 0.0038 - mean_squared_error: 0.0038 - val_loss: 9.5609e-04 - val_mean_squared_error: 9.5609e-04\n",
            "Epoch 52/60\n",
            "43/43 [==============================] - 30s 688ms/step - loss: 0.0031 - mean_squared_error: 0.0031 - val_loss: 0.0013 - val_mean_squared_error: 0.0013\n",
            "Epoch 53/60\n",
            "43/43 [==============================] - 30s 702ms/step - loss: 0.0047 - mean_squared_error: 0.0047 - val_loss: 0.0032 - val_mean_squared_error: 0.0032\n",
            "Epoch 54/60\n",
            "43/43 [==============================] - 30s 699ms/step - loss: 0.0050 - mean_squared_error: 0.0050 - val_loss: 5.4694e-04 - val_mean_squared_error: 5.4694e-04\n",
            "Epoch 55/60\n",
            "43/43 [==============================] - 29s 680ms/step - loss: 0.0032 - mean_squared_error: 0.0032 - val_loss: 5.5180e-04 - val_mean_squared_error: 5.5180e-04\n",
            "Epoch 56/60\n",
            "43/43 [==============================] - 28s 661ms/step - loss: 0.0033 - mean_squared_error: 0.0033 - val_loss: 0.0030 - val_mean_squared_error: 0.0030\n",
            "Epoch 57/60\n",
            "43/43 [==============================] - 29s 679ms/step - loss: 0.0041 - mean_squared_error: 0.0041 - val_loss: 0.0077 - val_mean_squared_error: 0.0077\n",
            "Epoch 58/60\n",
            "43/43 [==============================] - 29s 673ms/step - loss: 0.0046 - mean_squared_error: 0.0046 - val_loss: 6.7814e-04 - val_mean_squared_error: 6.7814e-04\n",
            "Epoch 59/60\n",
            "43/43 [==============================] - 29s 663ms/step - loss: 0.0027 - mean_squared_error: 0.0027 - val_loss: 5.3798e-04 - val_mean_squared_error: 5.3798e-04\n",
            "Epoch 60/60\n",
            "43/43 [==============================] - 28s 660ms/step - loss: 0.0027 - mean_squared_error: 0.0027 - val_loss: 5.6408e-04 - val_mean_squared_error: 5.6408e-04\n"
          ],
          "name": "stdout"
        }
      ]
    },
    {
      "cell_type": "code",
      "metadata": {
        "colab": {
          "background_save": true
        },
        "id": "zOUiZxvuonth"
      },
      "source": [
        "def plot_history(history):\n",
        "  acc = history.history['mean_squared_error']\n",
        "  val_acc = history.history['val_mean_squared_error']\n",
        "  loss = history.history['loss']\n",
        "  val_loss = history.history['val_loss']\n",
        "  x = range(1, len(loss) + 1)\n",
        "  plt.figure(figsize=(20, 5))\n",
        "  plt.subplot(1, 2, 1)\n",
        "  plt.plot(x, acc, 'b', label='Training mean_squared_error')\n",
        "  plt.plot(x, val_acc, 'r', label='val_mean_squared_error')\n",
        "  plt.title('Training and validation mse')\n",
        "  plt.legend()\n",
        "  #plt.subplot(1, 2, 2)\n",
        "  #plt.plot(x, loss, 'b', label='Training loss')\n",
        "  #plt.plot(x, val_loss, 'r', label='Validation loss')\n",
        "  #plt.title('Training and validation loss')\n",
        "  #plt.legend()\n",
        "  #plt.show()"
      ],
      "execution_count": null,
      "outputs": []
    },
    {
      "cell_type": "code",
      "metadata": {
        "colab": {
          "background_save": true
        },
        "id": "Cjg7kwO-v-IZ",
        "outputId": "816ede88-5725-4db0-9c5b-c805cb620f98"
      },
      "source": [
        "plot_history(history)"
      ],
      "execution_count": null,
      "outputs": [
        {
          "output_type": "display_data",
          "data": {
            "image/png": "[encoded data removed]",
            "text/plain": [
              "<Figure size 1440x360 with 1 Axes>"
            ]
          },
          "metadata": {
            "tags": []
          }
        }
      ]
    }
  ]
}